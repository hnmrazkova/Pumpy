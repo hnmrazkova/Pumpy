{
 "cells": [
  {
   "cell_type": "code",
   "execution_count": 1,
   "metadata": {},
   "outputs": [],
   "source": [
    "%matplotlib inline\n",
    "import pandas as pd\n",
    "import numpy as np\n",
    "from matplotlib import pyplot as plt"
   ]
  },
  {
   "cell_type": "code",
   "execution_count": 5,
   "metadata": {},
   "outputs": [],
   "source": [
    "df = pd.read_csv('pumps_all_02.csv')"
   ]
  },
  {
   "cell_type": "code",
   "execution_count": 7,
   "metadata": {},
   "outputs": [
    {
     "data": {
      "text/plain": [
       "id                         int64\n",
       "status_group              object\n",
       "amount_tsh               float64\n",
       "date_recorded             object\n",
       "actually_date             object\n",
       "count_month                int64\n",
       "funder                    object\n",
       "gps_height                 int64\n",
       "installer                 object\n",
       "longitude                float64\n",
       "latitude                 float64\n",
       "wpt_name                  object\n",
       "num_private                int64\n",
       "basin                     object\n",
       "subvillage                object\n",
       "region                    object\n",
       "region_code                int64\n",
       "district_code              int64\n",
       "lga                       object\n",
       "ward                      object\n",
       "population                 int64\n",
       "public_meeting            object\n",
       "recorded_by               object\n",
       "scheme_management         object\n",
       "scheme_name               object\n",
       "permit                    object\n",
       "construction_year        float64\n",
       "actuall_year             float64\n",
       "count_year                 int64\n",
       "extraction_type           object\n",
       "extraction_type_group     object\n",
       "extraction_type_class     object\n",
       "management                object\n",
       "management_group          object\n",
       "payment                   object\n",
       "payment_type              object\n",
       "water_quality             object\n",
       "quality_group             object\n",
       "quantity                  object\n",
       "quantity_group            object\n",
       "source                    object\n",
       "source_type               object\n",
       "source_class              object\n",
       "waterpoint_type           object\n",
       "waterpoint_type_group     object\n",
       "dtype: object"
      ]
     },
     "execution_count": 7,
     "metadata": {},
     "output_type": "execute_result"
    }
   ],
   "source": [
    "df.dtypes"
   ]
  },
  {
   "cell_type": "code",
   "execution_count": 8,
   "metadata": {},
   "outputs": [
    {
     "data": {
      "text/plain": [
       "Index(['id', 'status_group', 'amount_tsh', 'date_recorded', 'actually_date',\n",
       "       'count_month', 'funder', 'gps_height', 'installer', 'longitude',\n",
       "       'latitude', 'wpt_name', 'num_private', 'basin', 'subvillage', 'region',\n",
       "       'region_code', 'district_code', 'lga', 'ward', 'population',\n",
       "       'public_meeting', 'recorded_by', 'scheme_management', 'scheme_name',\n",
       "       'permit', 'construction_year', 'actuall_year', 'count_year',\n",
       "       'extraction_type', 'extraction_type_group', 'extraction_type_class',\n",
       "       'management', 'management_group', 'payment', 'payment_type',\n",
       "       'water_quality', 'quality_group', 'quantity', 'quantity_group',\n",
       "       'source', 'source_type', 'source_class', 'waterpoint_type',\n",
       "       'waterpoint_type_group'],\n",
       "      dtype='object')"
      ]
     },
     "execution_count": 8,
     "metadata": {},
     "output_type": "execute_result"
    }
   ],
   "source": [
    "df.columns"
   ]
  },
  {
   "cell_type": "code",
   "execution_count": 10,
   "metadata": {},
   "outputs": [],
   "source": [
    "df_selected_columns = df.loc[:,['status_group', \n",
    "                                'amount_tsh',\n",
    "                                'count_month', \n",
    "                                'funder', \n",
    "                                'gps_height', \n",
    "                                'installer', \n",
    "                                'basin',\n",
    "                                'public_meeting',\n",
    "                                'scheme_name', \n",
    "                                'permit', \n",
    "                                'construction_year',\n",
    "                                'extraction_type_class', \n",
    "                                'management', \n",
    "                                'payment',\n",
    "                                'quality_group', \n",
    "                                'quantity', \n",
    "                                'source', \n",
    "                                'source_class']]"
   ]
  },
  {
   "cell_type": "code",
   "execution_count": 11,
   "metadata": {},
   "outputs": [
    {
     "data": {
      "text/plain": [
       "status_group              object\n",
       "amount_tsh               float64\n",
       "count_month                int64\n",
       "funder                    object\n",
       "gps_height                 int64\n",
       "installer                 object\n",
       "basin                     object\n",
       "public_meeting            object\n",
       "scheme_name               object\n",
       "permit                    object\n",
       "construction_year        float64\n",
       "extraction_type_class     object\n",
       "management                object\n",
       "payment                   object\n",
       "quality_group             object\n",
       "quantity                  object\n",
       "source                    object\n",
       "source_class              object\n",
       "dtype: object"
      ]
     },
     "execution_count": 11,
     "metadata": {},
     "output_type": "execute_result"
    }
   ],
   "source": [
    "df_selected_columns.dtypes"
   ]
  },
  {
   "cell_type": "code",
   "execution_count": 13,
   "metadata": {},
   "outputs": [],
   "source": [
    " df_selected_columns.to_csv('selected_columns.csv')"
   ]
  },
  {
   "cell_type": "code",
   "execution_count": 14,
   "metadata": {},
   "outputs": [
    {
     "data": {
      "text/plain": [
       "0        2\n",
       "1        2\n",
       "2        2\n",
       "3        0\n",
       "4        2\n",
       "5        2\n",
       "6        0\n",
       "7        0\n",
       "8        0\n",
       "9        2\n",
       "10       2\n",
       "11       2\n",
       "12       2\n",
       "13       2\n",
       "14       2\n",
       "15       2\n",
       "16       0\n",
       "17       0\n",
       "18       1\n",
       "19       2\n",
       "20       2\n",
       "21       2\n",
       "22       1\n",
       "23       2\n",
       "24       2\n",
       "25       1\n",
       "26       2\n",
       "27       2\n",
       "28       0\n",
       "29       2\n",
       "        ..\n",
       "74220    3\n",
       "74221    3\n",
       "74222    3\n",
       "74223    3\n",
       "74224    3\n",
       "74225    3\n",
       "74226    3\n",
       "74227    3\n",
       "74228    3\n",
       "74229    3\n",
       "74230    3\n",
       "74231    3\n",
       "74232    3\n",
       "74233    3\n",
       "74234    3\n",
       "74235    3\n",
       "74236    3\n",
       "74237    3\n",
       "74238    3\n",
       "74239    3\n",
       "74240    3\n",
       "74241    3\n",
       "74242    3\n",
       "74243    3\n",
       "74244    3\n",
       "74245    3\n",
       "74246    3\n",
       "74247    3\n",
       "74248    3\n",
       "74249    3\n",
       "Name: status_group, Length: 74250, dtype: int64"
      ]
     },
     "execution_count": 14,
     "metadata": {},
     "output_type": "execute_result"
    }
   ],
   "source": [
    "status_group_replace = {'predicted label':3, 'functional':2, 'functional needs repair':1,\n",
    "                   'non functional':0}\n",
    "\n",
    "df_selected_columns['status_group'] = df_selected_columns.status_group.replace(status_group_replace)\n",
    "df_selected_columns['status_group'] "
   ]
  },
  {
   "cell_type": "code",
   "execution_count": 15,
   "metadata": {},
   "outputs": [
    {
     "data": {
      "text/plain": [
       "Government Of Tanzania    11299\n",
       "Danida                     3907\n",
       "Hesawa                     2782\n",
       "Rwssp                      1703\n",
       "World Bank                 1701\n",
       "Kkkt                       1623\n",
       "World Vision               1562\n",
       "Unicef                     1324\n",
       "Tasaf                      1136\n",
       "Dhv                        1065\n",
       "Name: funder, dtype: int64"
      ]
     },
     "execution_count": 15,
     "metadata": {},
     "output_type": "execute_result"
    }
   ],
   "source": [
    "df_selected_columns['funder'].value_counts().head(10)"
   ]
  },
  {
   "cell_type": "code",
   "execution_count": 16,
   "metadata": {},
   "outputs": [],
   "source": [
    "def funder_categorize(row):  \n",
    "    '''Keep top 10 values and set the rest to 'other'''\n",
    "\n",
    "    if row['funder']=='Government Of Tanzania':\n",
    "        return 'gov'\n",
    "    elif row['funder']=='Danida':\n",
    "        return 'danida'\n",
    "    elif row['funder']=='Hesawa':\n",
    "        return 'hesawa'\n",
    "    elif row['funder']=='Rwssp':\n",
    "        return 'rwssp'\n",
    "    elif row['funder']=='World Bank':\n",
    "        return 'world_bank'\n",
    "    elif row['funder']== 'Kkkt':\n",
    "        return 'kkkt'\n",
    "    elif row['funder']=='World Vision':\n",
    "        return 'world vision'\n",
    "    elif row['funder']== 'Unicef':\n",
    "        return 'unicef'\n",
    "    elif row['funder']=='Tasaf':\n",
    "        return 'tasaf'\n",
    "    elif row['funder']=='Dhv':\n",
    "        return'dhv'\n",
    "    else:\n",
    "        return 'other'\n",
    "    \n",
    "df_selected_columns['funder'] = df_selected_columns.apply(lambda row: funder_categorize(row), axis=1)"
   ]
  },
  {
   "cell_type": "code",
   "execution_count": 18,
   "metadata": {},
   "outputs": [
    {
     "data": {
      "text/plain": [
       "other           46148\n",
       "gov             11299\n",
       "danida           3907\n",
       "hesawa           2782\n",
       "rwssp            1703\n",
       "world_bank       1701\n",
       "kkkt             1623\n",
       "world vision     1562\n",
       "unicef           1324\n",
       "tasaf            1136\n",
       "dhv              1065\n",
       "Name: funder, dtype: int64"
      ]
     },
     "execution_count": 18,
     "metadata": {},
     "output_type": "execute_result"
    }
   ],
   "source": [
    "df_selected_columns['funder'].value_counts()"
   ]
  },
  {
   "cell_type": "code",
   "execution_count": 19,
   "metadata": {},
   "outputs": [
    {
     "data": {
      "text/plain": [
       "DWE           21751\n",
       "Government     2282\n",
       "RWE            1498\n",
       "Commu          1347\n",
       "DANIDA         1305\n",
       "KKKT           1120\n",
       "Hesawa         1070\n",
       "0               980\n",
       "TCRS            887\n",
       "CES             765\n",
       "Name: installer, dtype: int64"
      ]
     },
     "execution_count": 19,
     "metadata": {},
     "output_type": "execute_result"
    }
   ],
   "source": [
    "df_selected_columns['installer'].value_counts().head(10)"
   ]
  },
  {
   "cell_type": "code",
   "execution_count": 20,
   "metadata": {},
   "outputs": [
    {
     "data": {
      "text/plain": [
       "other     42225\n",
       "dwe       21751\n",
       "gov        2282\n",
       "rwe        1498\n",
       "commu      1347\n",
       "danida     1305\n",
       "kkkt       1120\n",
       "hesawa     1070\n",
       "tcrs        887\n",
       "ces         765\n",
       "Name: installer, dtype: int64"
      ]
     },
     "execution_count": 20,
     "metadata": {},
     "output_type": "execute_result"
    }
   ],
   "source": [
    "def installer_categorize(row):  \n",
    "    '''Keep top 10 values and set the rest to 'other'''\n",
    "\n",
    "    if row['installer']=='DWE':\n",
    "        return 'dwe'\n",
    "    elif row['installer']=='Government':\n",
    "        return 'gov'\n",
    "    elif row['installer']=='RWE':\n",
    "        return 'rwe'\n",
    "    elif row['installer']=='Commu':\n",
    "        return 'commu'\n",
    "    elif row['installer']=='DANIDA':\n",
    "        return 'danida'\n",
    "    elif row['installer']== 'KKKT':\n",
    "        return 'kkkt'\n",
    "    elif row['installer']=='Hesawa':\n",
    "        return 'hesawa'\n",
    "    elif row['installer']== 'TCRS':\n",
    "        return 'tcrs'\n",
    "    elif row['installer']=='CES':\n",
    "        return 'ces'\n",
    "    else:\n",
    "        return 'other'\n",
    "    \n",
    "df_selected_columns['installer'] = df_selected_columns.apply(lambda row: installer_categorize(row), axis=1)\n",
    "df_selected_columns['installer'].value_counts()"
   ]
  },
  {
   "cell_type": "code",
   "execution_count": 23,
   "metadata": {},
   "outputs": [
    {
     "data": {
      "text/plain": [
       "Lake Victoria              12871\n",
       "Pangani                    11143\n",
       "Rufiji                      9987\n",
       "Internal                    9642\n",
       "Lake Tanganyika             8052\n",
       "Wami / Ruvu                 7577\n",
       "Lake Nyasa                  6332\n",
       "Ruvuma / Southern Coast     5587\n",
       "Lake Rukwa                  3059\n",
       "Name: basin, dtype: int64"
      ]
     },
     "execution_count": 23,
     "metadata": {},
     "output_type": "execute_result"
    }
   ],
   "source": [
    "df_selected_columns['basin'].value_counts()"
   ]
  },
  {
   "cell_type": "code",
   "execution_count": 24,
   "metadata": {},
   "outputs": [
    {
     "data": {
      "text/plain": [
       "K                              858\n",
       "None                           794\n",
       "Borehole                       704\n",
       "Chalinze wate                  501\n",
       "M                              490\n",
       "DANIDA                         483\n",
       "Government                     395\n",
       "Ngana water supplied scheme    335\n",
       "wanging'ombe water supply s    323\n",
       "Bagamoyo wate                  296\n",
       "Name: scheme_name, dtype: int64"
      ]
     },
     "execution_count": 24,
     "metadata": {},
     "output_type": "execute_result"
    }
   ],
   "source": [
    "df_selected_columns['scheme_name'].value_counts().head(10)"
   ]
  },
  {
   "cell_type": "code",
   "execution_count": 25,
   "metadata": {},
   "outputs": [
    {
     "data": {
      "text/plain": [
       "other       69865\n",
       "k             858\n",
       "barehole      704\n",
       "chalinze      501\n",
       "m             490\n",
       "danida        483\n",
       "gov           395\n",
       "ngana         335\n",
       "wanging       323\n",
       "bagamoyo      296\n",
       "Name: scheme_name, dtype: int64"
      ]
     },
     "execution_count": 25,
     "metadata": {},
     "output_type": "execute_result"
    }
   ],
   "source": [
    "def scheme_name_categorize(row):  \n",
    "    '''Keep top 10 values and set the rest to 'other'''\n",
    "\n",
    "    if row['scheme_name']=='K':\n",
    "        return 'k'\n",
    "    elif row['scheme_name']=='Borehole':\n",
    "        return 'barehole'\n",
    "    elif row['scheme_name']=='Chalinze wate':\n",
    "        return 'chalinze'\n",
    "    elif row['scheme_name']=='M':\n",
    "        return 'm'\n",
    "    elif row['scheme_name']=='DANIDA':\n",
    "        return 'danida'\n",
    "    elif row['scheme_name']== 'Government':\n",
    "        return 'gov'\n",
    "    elif row['scheme_name']=='Ngana water supplied scheme':\n",
    "        return 'ngana'\n",
    "    elif row['scheme_name']== \"wanging'ombe water supply s\":\n",
    "        return 'wanging'\n",
    "    elif row['scheme_name']=='Bagamoyo wate':\n",
    "        return 'bagamoyo'\n",
    "    else:\n",
    "        return 'other'\n",
    "    \n",
    "df_selected_columns['scheme_name'] = df_selected_columns.apply(lambda row: scheme_name_categorize(row), axis=1)\n",
    "df_selected_columns['scheme_name'].value_counts()"
   ]
  },
  {
   "cell_type": "code",
   "execution_count": 26,
   "metadata": {},
   "outputs": [],
   "source": [
    "df_selected_columns = df_selected_columns.drop(columns=['scheme_name'])"
   ]
  },
  {
   "cell_type": "code",
   "execution_count": 27,
   "metadata": {},
   "outputs": [
    {
     "data": {
      "text/plain": [
       "Index(['status_group', 'amount_tsh', 'count_month', 'funder', 'gps_height',\n",
       "       'installer', 'basin', 'public_meeting', 'permit', 'construction_year',\n",
       "       'extraction_type_class', 'management', 'payment', 'quality_group',\n",
       "       'quantity', 'source', 'source_class'],\n",
       "      dtype='object')"
      ]
     },
     "execution_count": 27,
     "metadata": {},
     "output_type": "execute_result"
    }
   ],
   "source": [
    "df_selected_columns.columns"
   ]
  },
  {
   "cell_type": "code",
   "execution_count": 30,
   "metadata": {
    "scrolled": true
   },
   "outputs": [
    {
     "data": {
      "text/plain": [
       "gravity         33263\n",
       "handpump        20612\n",
       "other            8102\n",
       "submersible      7772\n",
       "motorpump        3777\n",
       "rope pump         572\n",
       "wind-powered      152\n",
       "Name: extraction_type_class, dtype: int64"
      ]
     },
     "execution_count": 30,
     "metadata": {},
     "output_type": "execute_result"
    }
   ],
   "source": [
    "df_selected_columns['extraction_type_class'].value_counts()"
   ]
  },
  {
   "cell_type": "code",
   "execution_count": 28,
   "metadata": {},
   "outputs": [
    {
     "data": {
      "text/plain": [
       "vwc                 50624\n",
       "wug                  8108\n",
       "water board          3688\n",
       "wua                  3118\n",
       "private operator     2504\n",
       "parastatal           2229\n",
       "water authority      1123\n",
       "other                1083\n",
       "company               859\n",
       "unknown               683\n",
       "other - school        126\n",
       "trust                 105\n",
       "Name: management, dtype: int64"
      ]
     },
     "execution_count": 28,
     "metadata": {},
     "output_type": "execute_result"
    }
   ],
   "source": [
    "df_selected_columns['management'].value_counts()"
   ]
  },
  {
   "cell_type": "code",
   "execution_count": 29,
   "metadata": {},
   "outputs": [
    {
     "data": {
      "text/plain": [
       "vwc                 50624\n",
       "wug                  8108\n",
       "water board          3688\n",
       "wua                  3118\n",
       "private operator     2504\n",
       "parastatal           2229\n",
       "other                1766\n",
       "water authority      1123\n",
       "company               859\n",
       "other - school        126\n",
       "trust                 105\n",
       "Name: management, dtype: int64"
      ]
     },
     "execution_count": 29,
     "metadata": {},
     "output_type": "execute_result"
    }
   ],
   "source": [
    "def management_categorize(row):  \n",
    "    '''Keep top 10 values and set the rest to 'other'''\n",
    "\n",
    "    if row['management']=='other':\n",
    "        return 'other'\n",
    "    elif row['management']=='unknown':\n",
    "        return 'other'\n",
    "  \n",
    "    else:\n",
    "        return row['management']\n",
    "    \n",
    "df_selected_columns['management'] = df_selected_columns.apply(lambda row: management_categorize(row), axis=1)\n",
    "df_selected_columns['management'].value_counts()"
   ]
  },
  {
   "cell_type": "code",
   "execution_count": 31,
   "metadata": {},
   "outputs": [
    {
     "data": {
      "text/plain": [
       "never pay                31712\n",
       "pay per bucket           11266\n",
       "pay monthly              10397\n",
       "unknown                  10149\n",
       "pay when scheme fails     4842\n",
       "pay annually              4570\n",
       "other                     1314\n",
       "Name: payment, dtype: int64"
      ]
     },
     "execution_count": 31,
     "metadata": {},
     "output_type": "execute_result"
    }
   ],
   "source": [
    "df_selected_columns['payment'].value_counts()"
   ]
  },
  {
   "cell_type": "code",
   "execution_count": 32,
   "metadata": {},
   "outputs": [
    {
     "data": {
      "text/plain": [
       "never pay                31712\n",
       "other                    11463\n",
       "pay per bucket           11266\n",
       "pay monthly              10397\n",
       "pay when scheme fails     4842\n",
       "pay annually              4570\n",
       "Name: payment, dtype: int64"
      ]
     },
     "execution_count": 32,
     "metadata": {},
     "output_type": "execute_result"
    }
   ],
   "source": [
    "def payment_categorize(row):  \n",
    "    '''Keep top 10 values and set the rest to 'other'''\n",
    "\n",
    "    if row['payment']=='other':\n",
    "        return 'other'\n",
    "    elif row['payment']=='unknown':\n",
    "        return 'other'\n",
    "  \n",
    "    else:\n",
    "        return row['payment']\n",
    "    \n",
    "df_selected_columns['payment'] = df_selected_columns.apply(lambda row: payment_categorize(row), axis=1)\n",
    "df_selected_columns['payment'].value_counts()"
   ]
  },
  {
   "cell_type": "code",
   "execution_count": 33,
   "metadata": {},
   "outputs": [
    {
     "data": {
      "text/plain": [
       "enough          41522\n",
       "insufficient    18896\n",
       "dry              7782\n",
       "seasonal         5075\n",
       "unknown           975\n",
       "Name: quantity, dtype: int64"
      ]
     },
     "execution_count": 33,
     "metadata": {},
     "output_type": "execute_result"
    }
   ],
   "source": [
    "df_selected_columns['quantity'].value_counts()"
   ]
  },
  {
   "cell_type": "code",
   "execution_count": 34,
   "metadata": {},
   "outputs": [
    {
     "data": {
      "text/plain": [
       "spring                  21216\n",
       "shallow well            21140\n",
       "machine dbh             13822\n",
       "river                   11964\n",
       "rainwater harvesting     2863\n",
       "hand dtw                 1108\n",
       "lake                      950\n",
       "dam                       840\n",
       "other                     261\n",
       "unknown                    86\n",
       "Name: source, dtype: int64"
      ]
     },
     "execution_count": 34,
     "metadata": {},
     "output_type": "execute_result"
    }
   ],
   "source": [
    "df_selected_columns['source'].value_counts()"
   ]
  },
  {
   "cell_type": "code",
   "execution_count": 35,
   "metadata": {},
   "outputs": [
    {
     "data": {
      "text/plain": [
       "spring                  21216\n",
       "shallow well            21140\n",
       "machine dbh             13822\n",
       "river                   11964\n",
       "rainwater harvesting     2863\n",
       "hand dtw                 1108\n",
       "lake                      950\n",
       "dam                       840\n",
       "other                     347\n",
       "Name: source, dtype: int64"
      ]
     },
     "execution_count": 35,
     "metadata": {},
     "output_type": "execute_result"
    }
   ],
   "source": [
    "def source_categorize(row):  \n",
    "    '''Keep top 10 values and set the rest to 'other'''\n",
    "\n",
    "    if row['source']=='other':\n",
    "        return 'other'\n",
    "    elif row['source']=='unknown':\n",
    "        return 'other'\n",
    "  \n",
    "    else:\n",
    "        return row['source']\n",
    "    \n",
    "df_selected_columns['source'] = df_selected_columns.apply(lambda row: source_categorize(row), axis=1)\n",
    "df_selected_columns['source'].value_counts()"
   ]
  },
  {
   "cell_type": "code",
   "execution_count": 38,
   "metadata": {},
   "outputs": [
    {
     "data": {
      "text/plain": [
       "groundwater    57286\n",
       "surface        16617\n",
       "unknown          347\n",
       "Name: source_class, dtype: int64"
      ]
     },
     "execution_count": 38,
     "metadata": {},
     "output_type": "execute_result"
    }
   ],
   "source": [
    "df_selected_columns['source_class'].value_counts()"
   ]
  },
  {
   "cell_type": "code",
   "execution_count": 39,
   "metadata": {},
   "outputs": [
    {
     "data": {
      "text/plain": [
       "status_group                 0\n",
       "amount_tsh               22586\n",
       "count_month                  0\n",
       "funder                       0\n",
       "gps_height                   0\n",
       "installer                    0\n",
       "basin                        0\n",
       "public_meeting            4155\n",
       "permit                    3793\n",
       "construction_year        25969\n",
       "extraction_type_class        0\n",
       "management                   0\n",
       "payment                      0\n",
       "quality_group                0\n",
       "quantity                     0\n",
       "source                       0\n",
       "source_class                 0\n",
       "dtype: int64"
      ]
     },
     "execution_count": 39,
     "metadata": {},
     "output_type": "execute_result"
    }
   ],
   "source": [
    "df_selected_columns.apply(lambda x: sum(x.isnull()))"
   ]
  },
  {
   "cell_type": "code",
   "execution_count": 40,
   "metadata": {},
   "outputs": [
    {
     "data": {
      "text/plain": [
       "True       48606\n",
       "False      21851\n",
       "Unknown     3793\n",
       "Name: permit, dtype: int64"
      ]
     },
     "execution_count": 40,
     "metadata": {},
     "output_type": "execute_result"
    }
   ],
   "source": [
    "df_selected_columns['permit']=df_selected_columns['permit'].fillna('Unknown')\n",
    "df_selected_columns['permit'].value_counts()"
   ]
  },
  {
   "cell_type": "code",
   "execution_count": 41,
   "metadata": {},
   "outputs": [
    {
     "data": {
      "text/plain": [
       "True       63749\n",
       "False       6346\n",
       "Unknown     4155\n",
       "Name: public_meeting, dtype: int64"
      ]
     },
     "execution_count": 41,
     "metadata": {},
     "output_type": "execute_result"
    }
   ],
   "source": [
    "df_selected_columns['public_meeting']=df_selected_columns['public_meeting'].fillna('Unknown')\n",
    "df_selected_columns['public_meeting'].value_counts()"
   ]
  },
  {
   "cell_type": "code",
   "execution_count": 42,
   "metadata": {},
   "outputs": [
    {
     "data": {
      "text/plain": [
       "status_group                 0\n",
       "amount_tsh               22586\n",
       "count_month                  0\n",
       "funder                       0\n",
       "gps_height                   0\n",
       "installer                    0\n",
       "basin                        0\n",
       "public_meeting               0\n",
       "permit                       0\n",
       "construction_year        25969\n",
       "extraction_type_class        0\n",
       "management                   0\n",
       "payment                      0\n",
       "quality_group                0\n",
       "quantity                     0\n",
       "source                       0\n",
       "source_class                 0\n",
       "dtype: int64"
      ]
     },
     "execution_count": 42,
     "metadata": {},
     "output_type": "execute_result"
    }
   ],
   "source": [
    "df_selected_columns.apply(lambda x: sum(x.isnull()))"
   ]
  },
  {
   "cell_type": "code",
   "execution_count": 52,
   "metadata": {},
   "outputs": [
    {
     "data": {
      "text/html": [
       "<div>\n",
       "<style scoped>\n",
       "    .dataframe tbody tr th:only-of-type {\n",
       "        vertical-align: middle;\n",
       "    }\n",
       "\n",
       "    .dataframe tbody tr th {\n",
       "        vertical-align: top;\n",
       "    }\n",
       "\n",
       "    .dataframe thead th {\n",
       "        text-align: right;\n",
       "    }\n",
       "</style>\n",
       "<table border=\"1\" class=\"dataframe\">\n",
       "  <thead>\n",
       "    <tr style=\"text-align: right;\">\n",
       "      <th></th>\n",
       "      <th>status_group_02</th>\n",
       "      <th>amount_tsh</th>\n",
       "    </tr>\n",
       "  </thead>\n",
       "  <tbody>\n",
       "    <tr>\n",
       "      <th>3</th>\n",
       "      <td>0</td>\n",
       "      <td>0.0</td>\n",
       "    </tr>\n",
       "    <tr>\n",
       "      <th>6</th>\n",
       "      <td>0</td>\n",
       "      <td>0.0</td>\n",
       "    </tr>\n",
       "    <tr>\n",
       "      <th>7</th>\n",
       "      <td>0</td>\n",
       "      <td>0.0</td>\n",
       "    </tr>\n",
       "    <tr>\n",
       "      <th>8</th>\n",
       "      <td>0</td>\n",
       "      <td>0.0</td>\n",
       "    </tr>\n",
       "    <tr>\n",
       "      <th>16</th>\n",
       "      <td>0</td>\n",
       "      <td>500.0</td>\n",
       "    </tr>\n",
       "    <tr>\n",
       "      <th>17</th>\n",
       "      <td>0</td>\n",
       "      <td>0.0</td>\n",
       "    </tr>\n",
       "    <tr>\n",
       "      <th>28</th>\n",
       "      <td>0</td>\n",
       "      <td>0.0</td>\n",
       "    </tr>\n",
       "    <tr>\n",
       "      <th>35</th>\n",
       "      <td>0</td>\n",
       "      <td>0.0</td>\n",
       "    </tr>\n",
       "    <tr>\n",
       "      <th>36</th>\n",
       "      <td>0</td>\n",
       "      <td>0.0</td>\n",
       "    </tr>\n",
       "    <tr>\n",
       "      <th>39</th>\n",
       "      <td>0</td>\n",
       "      <td>0.0</td>\n",
       "    </tr>\n",
       "    <tr>\n",
       "      <th>43</th>\n",
       "      <td>0</td>\n",
       "      <td>0.0</td>\n",
       "    </tr>\n",
       "    <tr>\n",
       "      <th>45</th>\n",
       "      <td>0</td>\n",
       "      <td>0.0</td>\n",
       "    </tr>\n",
       "    <tr>\n",
       "      <th>51</th>\n",
       "      <td>0</td>\n",
       "      <td>0.0</td>\n",
       "    </tr>\n",
       "    <tr>\n",
       "      <th>53</th>\n",
       "      <td>0</td>\n",
       "      <td>0.0</td>\n",
       "    </tr>\n",
       "    <tr>\n",
       "      <th>54</th>\n",
       "      <td>0</td>\n",
       "      <td>0.0</td>\n",
       "    </tr>\n",
       "    <tr>\n",
       "      <th>55</th>\n",
       "      <td>0</td>\n",
       "      <td>20.0</td>\n",
       "    </tr>\n",
       "    <tr>\n",
       "      <th>57</th>\n",
       "      <td>0</td>\n",
       "      <td>0.0</td>\n",
       "    </tr>\n",
       "    <tr>\n",
       "      <th>61</th>\n",
       "      <td>0</td>\n",
       "      <td>0.0</td>\n",
       "    </tr>\n",
       "    <tr>\n",
       "      <th>63</th>\n",
       "      <td>0</td>\n",
       "      <td>0.0</td>\n",
       "    </tr>\n",
       "    <tr>\n",
       "      <th>65</th>\n",
       "      <td>0</td>\n",
       "      <td>0.0</td>\n",
       "    </tr>\n",
       "    <tr>\n",
       "      <th>67</th>\n",
       "      <td>0</td>\n",
       "      <td>0.0</td>\n",
       "    </tr>\n",
       "    <tr>\n",
       "      <th>68</th>\n",
       "      <td>0</td>\n",
       "      <td>0.0</td>\n",
       "    </tr>\n",
       "    <tr>\n",
       "      <th>69</th>\n",
       "      <td>0</td>\n",
       "      <td>0.0</td>\n",
       "    </tr>\n",
       "    <tr>\n",
       "      <th>70</th>\n",
       "      <td>0</td>\n",
       "      <td>200.0</td>\n",
       "    </tr>\n",
       "    <tr>\n",
       "      <th>71</th>\n",
       "      <td>0</td>\n",
       "      <td>0.0</td>\n",
       "    </tr>\n",
       "    <tr>\n",
       "      <th>72</th>\n",
       "      <td>0</td>\n",
       "      <td>0.0</td>\n",
       "    </tr>\n",
       "    <tr>\n",
       "      <th>73</th>\n",
       "      <td>0</td>\n",
       "      <td>0.0</td>\n",
       "    </tr>\n",
       "    <tr>\n",
       "      <th>75</th>\n",
       "      <td>0</td>\n",
       "      <td>0.0</td>\n",
       "    </tr>\n",
       "    <tr>\n",
       "      <th>78</th>\n",
       "      <td>0</td>\n",
       "      <td>0.0</td>\n",
       "    </tr>\n",
       "    <tr>\n",
       "      <th>84</th>\n",
       "      <td>0</td>\n",
       "      <td>0.0</td>\n",
       "    </tr>\n",
       "    <tr>\n",
       "      <th>...</th>\n",
       "      <td>...</td>\n",
       "      <td>...</td>\n",
       "    </tr>\n",
       "    <tr>\n",
       "      <th>59312</th>\n",
       "      <td>0</td>\n",
       "      <td>0.0</td>\n",
       "    </tr>\n",
       "    <tr>\n",
       "      <th>59313</th>\n",
       "      <td>0</td>\n",
       "      <td>200.0</td>\n",
       "    </tr>\n",
       "    <tr>\n",
       "      <th>59320</th>\n",
       "      <td>0</td>\n",
       "      <td>70.0</td>\n",
       "    </tr>\n",
       "    <tr>\n",
       "      <th>59327</th>\n",
       "      <td>0</td>\n",
       "      <td>300.0</td>\n",
       "    </tr>\n",
       "    <tr>\n",
       "      <th>59329</th>\n",
       "      <td>0</td>\n",
       "      <td>0.0</td>\n",
       "    </tr>\n",
       "    <tr>\n",
       "      <th>59335</th>\n",
       "      <td>0</td>\n",
       "      <td>0.0</td>\n",
       "    </tr>\n",
       "    <tr>\n",
       "      <th>59336</th>\n",
       "      <td>0</td>\n",
       "      <td>100.0</td>\n",
       "    </tr>\n",
       "    <tr>\n",
       "      <th>59337</th>\n",
       "      <td>0</td>\n",
       "      <td>600.0</td>\n",
       "    </tr>\n",
       "    <tr>\n",
       "      <th>59340</th>\n",
       "      <td>0</td>\n",
       "      <td>0.0</td>\n",
       "    </tr>\n",
       "    <tr>\n",
       "      <th>59341</th>\n",
       "      <td>0</td>\n",
       "      <td>0.0</td>\n",
       "    </tr>\n",
       "    <tr>\n",
       "      <th>59343</th>\n",
       "      <td>0</td>\n",
       "      <td>0.0</td>\n",
       "    </tr>\n",
       "    <tr>\n",
       "      <th>59347</th>\n",
       "      <td>0</td>\n",
       "      <td>0.0</td>\n",
       "    </tr>\n",
       "    <tr>\n",
       "      <th>59349</th>\n",
       "      <td>0</td>\n",
       "      <td>0.0</td>\n",
       "    </tr>\n",
       "    <tr>\n",
       "      <th>59350</th>\n",
       "      <td>0</td>\n",
       "      <td>0.0</td>\n",
       "    </tr>\n",
       "    <tr>\n",
       "      <th>59352</th>\n",
       "      <td>0</td>\n",
       "      <td>0.0</td>\n",
       "    </tr>\n",
       "    <tr>\n",
       "      <th>59354</th>\n",
       "      <td>0</td>\n",
       "      <td>0.0</td>\n",
       "    </tr>\n",
       "    <tr>\n",
       "      <th>59355</th>\n",
       "      <td>0</td>\n",
       "      <td>0.0</td>\n",
       "    </tr>\n",
       "    <tr>\n",
       "      <th>59357</th>\n",
       "      <td>0</td>\n",
       "      <td>0.0</td>\n",
       "    </tr>\n",
       "    <tr>\n",
       "      <th>59361</th>\n",
       "      <td>0</td>\n",
       "      <td>0.0</td>\n",
       "    </tr>\n",
       "    <tr>\n",
       "      <th>59371</th>\n",
       "      <td>0</td>\n",
       "      <td>0.0</td>\n",
       "    </tr>\n",
       "    <tr>\n",
       "      <th>59372</th>\n",
       "      <td>0</td>\n",
       "      <td>0.0</td>\n",
       "    </tr>\n",
       "    <tr>\n",
       "      <th>59376</th>\n",
       "      <td>0</td>\n",
       "      <td>0.0</td>\n",
       "    </tr>\n",
       "    <tr>\n",
       "      <th>59377</th>\n",
       "      <td>0</td>\n",
       "      <td>0.0</td>\n",
       "    </tr>\n",
       "    <tr>\n",
       "      <th>59380</th>\n",
       "      <td>0</td>\n",
       "      <td>6000.0</td>\n",
       "    </tr>\n",
       "    <tr>\n",
       "      <th>59381</th>\n",
       "      <td>0</td>\n",
       "      <td>0.0</td>\n",
       "    </tr>\n",
       "    <tr>\n",
       "      <th>59382</th>\n",
       "      <td>0</td>\n",
       "      <td>6.0</td>\n",
       "    </tr>\n",
       "    <tr>\n",
       "      <th>59384</th>\n",
       "      <td>0</td>\n",
       "      <td>0.0</td>\n",
       "    </tr>\n",
       "    <tr>\n",
       "      <th>59391</th>\n",
       "      <td>0</td>\n",
       "      <td>0.0</td>\n",
       "    </tr>\n",
       "    <tr>\n",
       "      <th>59392</th>\n",
       "      <td>0</td>\n",
       "      <td>0.0</td>\n",
       "    </tr>\n",
       "    <tr>\n",
       "      <th>59394</th>\n",
       "      <td>0</td>\n",
       "      <td>500.0</td>\n",
       "    </tr>\n",
       "  </tbody>\n",
       "</table>\n",
       "<p>23018 rows × 2 columns</p>\n",
       "</div>"
      ],
      "text/plain": [
       "       status_group_02  amount_tsh\n",
       "3                    0         0.0\n",
       "6                    0         0.0\n",
       "7                    0         0.0\n",
       "8                    0         0.0\n",
       "16                   0       500.0\n",
       "17                   0         0.0\n",
       "28                   0         0.0\n",
       "35                   0         0.0\n",
       "36                   0         0.0\n",
       "39                   0         0.0\n",
       "43                   0         0.0\n",
       "45                   0         0.0\n",
       "51                   0         0.0\n",
       "53                   0         0.0\n",
       "54                   0         0.0\n",
       "55                   0        20.0\n",
       "57                   0         0.0\n",
       "61                   0         0.0\n",
       "63                   0         0.0\n",
       "65                   0         0.0\n",
       "67                   0         0.0\n",
       "68                   0         0.0\n",
       "69                   0         0.0\n",
       "70                   0       200.0\n",
       "71                   0         0.0\n",
       "72                   0         0.0\n",
       "73                   0         0.0\n",
       "75                   0         0.0\n",
       "78                   0         0.0\n",
       "84                   0         0.0\n",
       "...                ...         ...\n",
       "59312                0         0.0\n",
       "59313                0       200.0\n",
       "59320                0        70.0\n",
       "59327                0       300.0\n",
       "59329                0         0.0\n",
       "59335                0         0.0\n",
       "59336                0       100.0\n",
       "59337                0       600.0\n",
       "59340                0         0.0\n",
       "59341                0         0.0\n",
       "59343                0         0.0\n",
       "59347                0         0.0\n",
       "59349                0         0.0\n",
       "59350                0         0.0\n",
       "59352                0         0.0\n",
       "59354                0         0.0\n",
       "59355                0         0.0\n",
       "59357                0         0.0\n",
       "59361                0         0.0\n",
       "59371                0         0.0\n",
       "59372                0         0.0\n",
       "59376                0         0.0\n",
       "59377                0         0.0\n",
       "59380                0      6000.0\n",
       "59381                0         0.0\n",
       "59382                0         6.0\n",
       "59384                0         0.0\n",
       "59391                0         0.0\n",
       "59392                0         0.0\n",
       "59394                0       500.0\n",
       "\n",
       "[23018 rows x 2 columns]"
      ]
     },
     "execution_count": 52,
     "metadata": {},
     "output_type": "execute_result"
    }
   ],
   "source": [
    "view = df_selected_columns[['status_group_02', 'amount_tsh']]\n",
    "view[view['status_group_02'] == 0]\n"
   ]
  },
  {
   "cell_type": "code",
   "execution_count": 43,
   "metadata": {},
   "outputs": [
    {
     "data": {
      "text/plain": [
       "True"
      ]
     },
     "execution_count": 43,
     "metadata": {},
     "output_type": "execute_result"
    }
   ],
   "source": [
    "df_selected_columns['amount_tsh'].hasnans"
   ]
  },
  {
   "cell_type": "code",
   "execution_count": 44,
   "metadata": {},
   "outputs": [],
   "source": [
    "df_selected_columns['amount_tsh'].replace(0, np.nan, inplace = True)"
   ]
  },
  {
   "cell_type": "code",
   "execution_count": 60,
   "metadata": {},
   "outputs": [
    {
     "data": {
      "text/plain": [
       "500.0       3874\n",
       "50.0        3103\n",
       "1000.0      1858\n",
       "20.0        1812\n",
       "200.0       1516\n",
       "100.0       1034\n",
       "10.0         995\n",
       "30.0         929\n",
       "2000.0       882\n",
       "250.0        731\n",
       "300.0        688\n",
       "5000.0       559\n",
       "5.0          471\n",
       "25.0         445\n",
       "3000.0       425\n",
       "1200.0       322\n",
       "1500.0       244\n",
       "6.0          231\n",
       "600.0        219\n",
       "4000.0       195\n",
       "2400.0       186\n",
       "2500.0       169\n",
       "6000.0       150\n",
       "8000.0        87\n",
       "7.0           87\n",
       "10000.0       74\n",
       "40.0          74\n",
       "750.0         71\n",
       "12000.0       64\n",
       "450.0         59\n",
       "            ... \n",
       "16300.0        2\n",
       "26000.0        2\n",
       "60000.0        2\n",
       "16000.0        2\n",
       "200000.0       2\n",
       "800.0          2\n",
       "520.0          2\n",
       "4500.0         2\n",
       "70000.0        2\n",
       "0.5            1\n",
       "8500.0         1\n",
       "6300.0         1\n",
       "38000.0        1\n",
       "170000.0       1\n",
       "26.0           1\n",
       "53.0           1\n",
       "9.0            1\n",
       "3.0            1\n",
       "350000.0       1\n",
       "1400.0         1\n",
       "120000.0       1\n",
       "900.0          1\n",
       "138000.0       1\n",
       "250000.0       1\n",
       "306.0          1\n",
       "5400.0         1\n",
       "59.0           1\n",
       "12.0           1\n",
       "220.0          1\n",
       "2550.0         1\n",
       "Name: amount_tsh, Length: 100, dtype: int64"
      ]
     },
     "execution_count": 60,
     "metadata": {},
     "output_type": "execute_result"
    }
   ],
   "source": [
    "df_selected_columns['amount_tsh'].value_counts()"
   ]
  },
  {
   "cell_type": "code",
   "execution_count": 45,
   "metadata": {},
   "outputs": [],
   "source": [
    "df_selected_columns['amount_tsh'].fillna(df_selected_columns['amount_tsh'].median(), inplace = True)"
   ]
  },
  {
   "cell_type": "code",
   "execution_count": 46,
   "metadata": {},
   "outputs": [
    {
     "data": {
      "text/plain": [
       "False"
      ]
     },
     "execution_count": 46,
     "metadata": {},
     "output_type": "execute_result"
    }
   ],
   "source": [
    "df_selected_columns['amount_tsh'].hasnans"
   ]
  },
  {
   "cell_type": "code",
   "execution_count": 47,
   "metadata": {},
   "outputs": [
    {
     "data": {
      "text/plain": [
       "250.0       52781\n",
       "500.0        3874\n",
       "50.0         3103\n",
       "1000.0       1858\n",
       "20.0         1812\n",
       "200.0        1516\n",
       "100.0        1034\n",
       "10.0          995\n",
       "30.0          929\n",
       "2000.0        882\n",
       "300.0         688\n",
       "5000.0        559\n",
       "5.0           471\n",
       "25.0          445\n",
       "3000.0        425\n",
       "1200.0        322\n",
       "1500.0        244\n",
       "6.0           231\n",
       "600.0         219\n",
       "4000.0        195\n",
       "2400.0        186\n",
       "2500.0        169\n",
       "6000.0        150\n",
       "7.0            87\n",
       "8000.0         87\n",
       "10000.0        74\n",
       "40.0           74\n",
       "750.0          71\n",
       "12000.0        64\n",
       "450.0          59\n",
       "            ...  \n",
       "16300.0         2\n",
       "26000.0         2\n",
       "60000.0         2\n",
       "16000.0         2\n",
       "200000.0        2\n",
       "800.0           2\n",
       "520.0           2\n",
       "4500.0          2\n",
       "70000.0         2\n",
       "0.5             1\n",
       "8500.0          1\n",
       "6300.0          1\n",
       "38000.0         1\n",
       "170000.0        1\n",
       "26.0            1\n",
       "53.0            1\n",
       "9.0             1\n",
       "3.0             1\n",
       "350000.0        1\n",
       "1400.0          1\n",
       "120000.0        1\n",
       "900.0           1\n",
       "138000.0        1\n",
       "250000.0        1\n",
       "306.0           1\n",
       "5400.0          1\n",
       "59.0            1\n",
       "12.0            1\n",
       "220.0           1\n",
       "2550.0          1\n",
       "Name: amount_tsh, Length: 100, dtype: int64"
      ]
     },
     "execution_count": 47,
     "metadata": {},
     "output_type": "execute_result"
    }
   ],
   "source": [
    "df_selected_columns['amount_tsh'].value_counts()"
   ]
  },
  {
   "cell_type": "code",
   "execution_count": 48,
   "metadata": {
    "scrolled": true
   },
   "outputs": [
    {
     "data": {
      "text/plain": [
       "False"
      ]
     },
     "execution_count": 48,
     "metadata": {},
     "output_type": "execute_result"
    }
   ],
   "source": [
    "df_selected_columns['gps_height'].hasnans"
   ]
  },
  {
   "cell_type": "code",
   "execution_count": 49,
   "metadata": {},
   "outputs": [],
   "source": [
    "df_selected_columns['gps_height'].replace(0, np.nan, inplace = True)"
   ]
  },
  {
   "cell_type": "code",
   "execution_count": 50,
   "metadata": {},
   "outputs": [
    {
     "data": {
      "text/plain": [
       "True"
      ]
     },
     "execution_count": 50,
     "metadata": {},
     "output_type": "execute_result"
    }
   ],
   "source": [
    "df_selected_columns['gps_height'].hasnans"
   ]
  },
  {
   "cell_type": "code",
   "execution_count": 53,
   "metadata": {},
   "outputs": [],
   "source": [
    "df_selected_columns['gps_height'].fillna(df_selected_columns['gps_height'].median(), inplace = True)"
   ]
  },
  {
   "cell_type": "code",
   "execution_count": 54,
   "metadata": {},
   "outputs": [
    {
     "data": {
      "text/plain": [
       "False"
      ]
     },
     "execution_count": 54,
     "metadata": {},
     "output_type": "execute_result"
    }
   ],
   "source": [
    "df_selected_columns['gps_height'].hasnans"
   ]
  },
  {
   "cell_type": "code",
   "execution_count": 55,
   "metadata": {},
   "outputs": [
    {
     "data": {
      "text/plain": [
       "False"
      ]
     },
     "execution_count": 55,
     "metadata": {},
     "output_type": "execute_result"
    }
   ],
   "source": [
    "df_selected_columns['count_month'].hasnans"
   ]
  },
  {
   "cell_type": "code",
   "execution_count": 77,
   "metadata": {},
   "outputs": [
    {
     "data": {
      "text/plain": [
       "57     14074\n",
       "80     11189\n",
       "79     10568\n",
       "75      8637\n",
       "56      8202\n",
       "60      5110\n",
       "55      4527\n",
       "76      3065\n",
       "61      2663\n",
       "58      1062\n",
       "78       871\n",
       "74       681\n",
       "54       365\n",
       "52       344\n",
       "47       341\n",
       "53       329\n",
       "50       287\n",
       "48       280\n",
       "59       261\n",
       "49       246\n",
       "81       232\n",
       "51       206\n",
       "72       144\n",
       "77       132\n",
       "82       130\n",
       "73       130\n",
       "71       129\n",
       "155       16\n",
       "164        6\n",
       "166        4\n",
       "162        3\n",
       "158        3\n",
       "161        3\n",
       "159        2\n",
       "163        2\n",
       "69         2\n",
       "160        1\n",
       "165        1\n",
       "199        1\n",
       "181        1\n",
       "Name: count_month, dtype: int64"
      ]
     },
     "execution_count": 77,
     "metadata": {},
     "output_type": "execute_result"
    }
   ],
   "source": [
    "df_selected_columns.count_month.value_counts()"
   ]
  },
  {
   "cell_type": "code",
   "execution_count": 56,
   "metadata": {},
   "outputs": [],
   "source": [
    "def count_month_categorize(row):  \n",
    "    '''Keep top 10 values and set the rest to 'other'''\n",
    "\n",
    "    if row['count_month'] in range(0, 21):\n",
    "        return 1\n",
    "    elif row['count_month']in range(21, 41):\n",
    "        return 2\n",
    "    elif row['count_month']in range(41, 61):\n",
    "        return 3\n",
    "    elif row['count_month']in range(61, 81):\n",
    "        return 4\n",
    "    elif row['count_month']in range(81, 101):\n",
    "        return 5\n",
    "    elif row['count_month']in range(101, 121):\n",
    "        return 6\n",
    "    elif row['count_month']in range(121, 141):\n",
    "        return 7\n",
    "    elif row['count_month']in range(141, 161):\n",
    "        return 8\n",
    "    elif row['count_month']in range(161, 181):\n",
    "        return 9\n",
    "    elif row['count_month']in range(181, 201):\n",
    "        return 10\n",
    "    else:\n",
    "        return 11\n",
    "    \n",
    "df_selected_columns['count_month'] = df_selected_columns.apply(lambda row: count_month_categorize(row), axis=1)"
   ]
  },
  {
   "cell_type": "code",
   "execution_count": 57,
   "metadata": {},
   "outputs": [
    {
     "data": {
      "text/plain": [
       "4     38211\n",
       "3     35634\n",
       "5       362\n",
       "8        22\n",
       "9        19\n",
       "10        2\n",
       "Name: count_month, dtype: int64"
      ]
     },
     "execution_count": 57,
     "metadata": {},
     "output_type": "execute_result"
    }
   ],
   "source": [
    "df_selected_columns.count_month.value_counts()"
   ]
  },
  {
   "cell_type": "code",
   "execution_count": 58,
   "metadata": {},
   "outputs": [
    {
     "data": {
      "text/plain": [
       "True"
      ]
     },
     "execution_count": 58,
     "metadata": {},
     "output_type": "execute_result"
    }
   ],
   "source": [
    "df_selected_columns['construction_year'].hasnans"
   ]
  },
  {
   "cell_type": "code",
   "execution_count": 59,
   "metadata": {},
   "outputs": [],
   "source": [
    "df_selected_columns['missing_construction_year'] = df_selected_columns['construction_year'].apply(lambda x: np.isnan(x))"
   ]
  },
  {
   "cell_type": "code",
   "execution_count": 60,
   "metadata": {},
   "outputs": [
    {
     "data": {
      "text/plain": [
       "0        False\n",
       "1        False\n",
       "2        False\n",
       "3        False\n",
       "4         True\n",
       "5        False\n",
       "6         True\n",
       "7         True\n",
       "8         True\n",
       "9         True\n",
       "10       False\n",
       "11       False\n",
       "12        True\n",
       "13       False\n",
       "14        True\n",
       "15       False\n",
       "16       False\n",
       "17       False\n",
       "18       False\n",
       "19       False\n",
       "20       False\n",
       "21        True\n",
       "22       False\n",
       "23       False\n",
       "24       False\n",
       "25       False\n",
       "26       False\n",
       "27        True\n",
       "28       False\n",
       "29       False\n",
       "         ...  \n",
       "74220    False\n",
       "74221    False\n",
       "74222    False\n",
       "74223     True\n",
       "74224    False\n",
       "74225    False\n",
       "74226     True\n",
       "74227     True\n",
       "74228     True\n",
       "74229    False\n",
       "74230    False\n",
       "74231     True\n",
       "74232    False\n",
       "74233    False\n",
       "74234     True\n",
       "74235     True\n",
       "74236    False\n",
       "74237    False\n",
       "74238    False\n",
       "74239    False\n",
       "74240    False\n",
       "74241     True\n",
       "74242    False\n",
       "74243    False\n",
       "74244     True\n",
       "74245    False\n",
       "74246    False\n",
       "74247    False\n",
       "74248    False\n",
       "74249    False\n",
       "Name: missing_construction_year, Length: 74250, dtype: bool"
      ]
     },
     "execution_count": 60,
     "metadata": {},
     "output_type": "execute_result"
    }
   ],
   "source": [
    "df_selected_columns['missing_construction_year']"
   ]
  },
  {
   "cell_type": "code",
   "execution_count": 61,
   "metadata": {},
   "outputs": [
    {
     "data": {
      "text/plain": [
       "0        1999.0\n",
       "1        2010.0\n",
       "2        2009.0\n",
       "3        1986.0\n",
       "4           NaN\n",
       "5        2009.0\n",
       "6           NaN\n",
       "7           NaN\n",
       "8           NaN\n",
       "9           NaN\n",
       "10       2011.0\n",
       "11       1987.0\n",
       "12          NaN\n",
       "13       2009.0\n",
       "14          NaN\n",
       "15       1991.0\n",
       "16       1978.0\n",
       "17       1978.0\n",
       "18       1999.0\n",
       "19       1992.0\n",
       "20       2008.0\n",
       "21          NaN\n",
       "22       1978.0\n",
       "23       2011.0\n",
       "24       2009.0\n",
       "25       1974.0\n",
       "26       2011.0\n",
       "27          NaN\n",
       "28       2000.0\n",
       "29       2002.0\n",
       "          ...  \n",
       "74220    2001.0\n",
       "74221    2007.0\n",
       "74222    1997.0\n",
       "74223       NaN\n",
       "74224    2008.0\n",
       "74225    1978.0\n",
       "74226       NaN\n",
       "74227       NaN\n",
       "74228       NaN\n",
       "74229    2005.0\n",
       "74230    1996.0\n",
       "74231       NaN\n",
       "74232    2001.0\n",
       "74233    2003.0\n",
       "74234       NaN\n",
       "74235       NaN\n",
       "74236    2009.0\n",
       "74237    2010.0\n",
       "74238    1986.0\n",
       "74239    2005.0\n",
       "74240    2009.0\n",
       "74241       NaN\n",
       "74242    2009.0\n",
       "74243    1995.0\n",
       "74244       NaN\n",
       "74245    1988.0\n",
       "74246    1994.0\n",
       "74247    2010.0\n",
       "74248    2009.0\n",
       "74249    2008.0\n",
       "Name: construction_year, Length: 74250, dtype: float64"
      ]
     },
     "execution_count": 61,
     "metadata": {},
     "output_type": "execute_result"
    }
   ],
   "source": [
    "df_selected_columns['construction_year']"
   ]
  },
  {
   "cell_type": "code",
   "execution_count": 62,
   "metadata": {},
   "outputs": [
    {
     "data": {
      "text/plain": [
       "status_group                     0\n",
       "amount_tsh                       0\n",
       "count_month                      0\n",
       "funder                           0\n",
       "gps_height                       0\n",
       "installer                        0\n",
       "basin                            0\n",
       "public_meeting                   0\n",
       "permit                           0\n",
       "construction_year            25969\n",
       "extraction_type_class            0\n",
       "management                       0\n",
       "payment                          0\n",
       "quality_group                    0\n",
       "quantity                         0\n",
       "source                           0\n",
       "source_class                     0\n",
       "missing_construction_year        0\n",
       "dtype: int64"
      ]
     },
     "execution_count": 62,
     "metadata": {},
     "output_type": "execute_result"
    }
   ],
   "source": [
    "df_selected_columns.apply(lambda x: sum(x.isnull()))"
   ]
  },
  {
   "cell_type": "code",
   "execution_count": 63,
   "metadata": {},
   "outputs": [],
   "source": [
    "df_selected_columns['construction_year'].fillna(df_selected_columns['construction_year'].median(), inplace = True)"
   ]
  },
  {
   "cell_type": "code",
   "execution_count": 92,
   "metadata": {},
   "outputs": [
    {
     "data": {
      "text/plain": [
       "0        1999.0\n",
       "1        2010.0\n",
       "2        2009.0\n",
       "3        1986.0\n",
       "4        2000.0\n",
       "5        2009.0\n",
       "6        2000.0\n",
       "7        2000.0\n",
       "8        2000.0\n",
       "9        2000.0\n",
       "10       2011.0\n",
       "11       1987.0\n",
       "12       2000.0\n",
       "13       2009.0\n",
       "14       2000.0\n",
       "15       1991.0\n",
       "16       1978.0\n",
       "17       1978.0\n",
       "18       1999.0\n",
       "19       1992.0\n",
       "20       2008.0\n",
       "21       2000.0\n",
       "22       1978.0\n",
       "23       2011.0\n",
       "24       2009.0\n",
       "25       1974.0\n",
       "26       2011.0\n",
       "27       2000.0\n",
       "28       2000.0\n",
       "29       2002.0\n",
       "          ...  \n",
       "74220    2001.0\n",
       "74221    2007.0\n",
       "74222    1997.0\n",
       "74223    2000.0\n",
       "74224    2008.0\n",
       "74225    1978.0\n",
       "74226    2000.0\n",
       "74227    2000.0\n",
       "74228    2000.0\n",
       "74229    2005.0\n",
       "74230    1996.0\n",
       "74231    2000.0\n",
       "74232    2001.0\n",
       "74233    2003.0\n",
       "74234    2000.0\n",
       "74235    2000.0\n",
       "74236    2009.0\n",
       "74237    2010.0\n",
       "74238    1986.0\n",
       "74239    2005.0\n",
       "74240    2009.0\n",
       "74241    2000.0\n",
       "74242    2009.0\n",
       "74243    1995.0\n",
       "74244    2000.0\n",
       "74245    1988.0\n",
       "74246    1994.0\n",
       "74247    2010.0\n",
       "74248    2009.0\n",
       "74249    2008.0\n",
       "Name: construction_year, Length: 74250, dtype: float64"
      ]
     },
     "execution_count": 92,
     "metadata": {},
     "output_type": "execute_result"
    }
   ],
   "source": [
    "df_selected_columns['construction_year']"
   ]
  },
  {
   "cell_type": "code",
   "execution_count": 64,
   "metadata": {},
   "outputs": [
    {
     "data": {
      "text/plain": [
       "status_group                 0\n",
       "amount_tsh                   0\n",
       "count_month                  0\n",
       "funder                       0\n",
       "gps_height                   0\n",
       "installer                    0\n",
       "basin                        0\n",
       "public_meeting               0\n",
       "permit                       0\n",
       "construction_year            0\n",
       "extraction_type_class        0\n",
       "management                   0\n",
       "payment                      0\n",
       "quality_group                0\n",
       "quantity                     0\n",
       "source                       0\n",
       "source_class                 0\n",
       "missing_construction_year    0\n",
       "dtype: int64"
      ]
     },
     "execution_count": 64,
     "metadata": {},
     "output_type": "execute_result"
    }
   ],
   "source": [
    "df_selected_columns.apply(lambda x: sum(x.isnull()))"
   ]
  },
  {
   "cell_type": "code",
   "execution_count": 65,
   "metadata": {},
   "outputs": [],
   "source": [
    " df_selected_columns.to_csv('clean_data.csv')"
   ]
  },
  {
   "cell_type": "code",
   "execution_count": null,
   "metadata": {},
   "outputs": [],
   "source": []
  }
 ],
 "metadata": {
  "kernelspec": {
   "display_name": "Python 3",
   "language": "python",
   "name": "python3"
  },
  "language_info": {
   "codemirror_mode": {
    "name": "ipython",
    "version": 3
   },
   "file_extension": ".py",
   "mimetype": "text/x-python",
   "name": "python",
   "nbconvert_exporter": "python",
   "pygments_lexer": "ipython3",
   "version": "3.6.2"
  }
 },
 "nbformat": 4,
 "nbformat_minor": 2
}
